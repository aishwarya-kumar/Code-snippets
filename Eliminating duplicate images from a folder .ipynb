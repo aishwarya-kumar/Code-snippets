{
 "cells": [
  {
   "cell_type": "markdown",
   "id": "african-modification",
   "metadata": {},
   "source": [
    "# Eliminating duplicate images in a folder\n",
    "\n",
    "This function will help us in identifying and removing duplicate images in a folder- those images which have the same size, same image, but are named differently.\n"
   ]
  },
  {
   "cell_type": "code",
   "execution_count": 1,
   "id": "increasing-house",
   "metadata": {},
   "outputs": [
    {
     "ename": "ImportError",
     "evalue": "cannot import name 'imread' from 'scipy.misc' (/Users/aikumar/.pyenv/versions/3.7.3/lib/python3.7/site-packages/scipy/misc/__init__.py)",
     "output_type": "error",
     "traceback": [
      "\u001b[0;31m---------------------------------------------------------------------------\u001b[0m",
      "\u001b[0;31mImportError\u001b[0m                               Traceback (most recent call last)",
      "\u001b[0;32m<ipython-input-1-2fb093cf9822>\u001b[0m in \u001b[0;36m<module>\u001b[0;34m\u001b[0m\n\u001b[1;32m      1\u001b[0m \u001b[0;32mimport\u001b[0m \u001b[0mhashlib\u001b[0m\u001b[0;34m\u001b[0m\u001b[0;34m\u001b[0m\u001b[0m\n\u001b[0;32m----> 2\u001b[0;31m \u001b[0;32mfrom\u001b[0m \u001b[0mscipy\u001b[0m\u001b[0;34m.\u001b[0m\u001b[0mmisc\u001b[0m \u001b[0;32mimport\u001b[0m \u001b[0mimread\u001b[0m\u001b[0;34m,\u001b[0m \u001b[0mimresize\u001b[0m\u001b[0;34m,\u001b[0m \u001b[0mimshow\u001b[0m\u001b[0;34m\u001b[0m\u001b[0;34m\u001b[0m\u001b[0m\n\u001b[0m\u001b[1;32m      3\u001b[0m \u001b[0;32mimport\u001b[0m \u001b[0mmatplotlib\u001b[0m\u001b[0;34m.\u001b[0m\u001b[0mpyplot\u001b[0m \u001b[0;32mas\u001b[0m \u001b[0mplt\u001b[0m\u001b[0;34m\u001b[0m\u001b[0;34m\u001b[0m\u001b[0m\n\u001b[1;32m      4\u001b[0m \u001b[0;32mimport\u001b[0m \u001b[0mmatplotlib\u001b[0m\u001b[0;34m.\u001b[0m\u001b[0mgridspec\u001b[0m \u001b[0;32mas\u001b[0m \u001b[0mgridspec\u001b[0m\u001b[0;34m\u001b[0m\u001b[0;34m\u001b[0m\u001b[0m\n\u001b[1;32m      5\u001b[0m \u001b[0;32mimport\u001b[0m \u001b[0mnumpy\u001b[0m \u001b[0;32mas\u001b[0m \u001b[0mnp\u001b[0m\u001b[0;34m\u001b[0m\u001b[0;34m\u001b[0m\u001b[0m\n",
      "\u001b[0;31mImportError\u001b[0m: cannot import name 'imread' from 'scipy.misc' (/Users/aikumar/.pyenv/versions/3.7.3/lib/python3.7/site-packages/scipy/misc/__init__.py)"
     ]
    }
   ],
   "source": [
    "import hashlib\n",
    "from scipy.misc import imread, imresize, imshow\n",
    "import matplotlib.pyplot as plt\n",
    "import matplotlib.gridspec as gridspec\n",
    "import numpy as np\n",
    "import os"
   ]
  },
  {
   "cell_type": "code",
   "execution_count": null,
   "id": "vulnerable-cameroon",
   "metadata": {},
   "outputs": [],
   "source": [
    "def file_hash(filename):\n",
    "    with open(filename,'rb') as f:\n",
    "        return md5(f.read()).hexdigest()\n"
   ]
  },
  {
   "cell_type": "code",
   "execution_count": null,
   "id": "olympic-stream",
   "metadata": {},
   "outputs": [],
   "source": [
    "os.getcwd()\n",
    "os.chdir(r'D:\\pytest')\n",
    "os.getcwd()\n",
    "files_list = os.listdir('.')\n",
    "print (len(files_list))\n",
    "duplicates=[]\n",
    "hash_keys=dict()"
   ]
  },
  {
   "cell_type": "code",
   "execution_count": null,
   "id": "norman-african",
   "metadata": {},
   "outputs": [],
   "source": [
    "for index, filename in enumerate(os.listdir('.')):\n",
    "    if os.path.isfile(filename):\n",
    "        with open(filename, 'rb') as f:\n",
    "            filehash = hashlib.md5(f.read()).hexdigest()\n",
    "        if filehash not in hash_keys:\n",
    "            hash_keys[filehash]=index\n",
    "        else:\n",
    "            duplicates.append((index,hash_keys[filehash]))\n",
    "print(duplicates)"
   ]
  },
  {
   "cell_type": "code",
   "execution_count": null,
   "id": "civil-composer",
   "metadata": {},
   "outputs": [],
   "source": [
    "for file_indexes in duplicates[:30]:\n",
    "    try:\n",
    "        plt.subplot(121),plt.imshow(imread(files_list[file_indexes[1]]))\n",
    "        plt.title(file_indexes[1]),plt.xticks([]),plt.yticks([])\n",
    "        plt.subplot(122),plt.imshow(imread(files_list[file_indexes[0]]))\n",
    "        plt.title(str(file_indexes[0])+ 'duplicate'),plt.xticks([]),plt.yticks([])\n",
    "        plt.show()\n",
    "    except OSError as e:\n",
    "        continue\n",
    "for index in duplicates:\n",
    "    os.remove(files_list[index[0]])"
   ]
  }
 ],
 "metadata": {
  "kernelspec": {
   "display_name": "Python 3",
   "language": "python",
   "name": "python3"
  },
  "language_info": {
   "codemirror_mode": {
    "name": "ipython",
    "version": 3
   },
   "file_extension": ".py",
   "mimetype": "text/x-python",
   "name": "python",
   "nbconvert_exporter": "python",
   "pygments_lexer": "ipython3",
   "version": "3.7.3"
  }
 },
 "nbformat": 4,
 "nbformat_minor": 5
}
